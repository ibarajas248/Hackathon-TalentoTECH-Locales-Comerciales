{
 "cells": [
  {
   "cell_type": "code",
   "execution_count": 1,
   "id": "95612e4f-077c-40e9-8572-430b348f3cbf",
   "metadata": {},
   "outputs": [
    {
     "name": "stdout",
     "output_type": "stream",
     "text": [
      "Requirement already satisfied: pandas in c:\\users\\user\\pycharmprojects\\pythonproject1\\.venv\\lib\\site-packages (2.2.3)\n",
      "Collecting openpyxl\n",
      "  Obtaining dependency information for openpyxl from https://files.pythonhosted.org/packages/c0/da/977ded879c29cbd04de313843e76868e6e13408a94ed6b987245dc7c8506/openpyxl-3.1.5-py2.py3-none-any.whl.metadata\n",
      "  Downloading openpyxl-3.1.5-py2.py3-none-any.whl.metadata (2.5 kB)\n",
      "Requirement already satisfied: numpy>=1.26.0 in c:\\users\\user\\pycharmprojects\\pythonproject1\\.venv\\lib\\site-packages (from pandas) (2.1.2)\n",
      "Requirement already satisfied: python-dateutil>=2.8.2 in c:\\users\\user\\pycharmprojects\\pythonproject1\\.venv\\lib\\site-packages (from pandas) (2.9.0.post0)\n",
      "Requirement already satisfied: pytz>=2020.1 in c:\\users\\user\\pycharmprojects\\pythonproject1\\.venv\\lib\\site-packages (from pandas) (2024.2)\n",
      "Requirement already satisfied: tzdata>=2022.7 in c:\\users\\user\\pycharmprojects\\pythonproject1\\.venv\\lib\\site-packages (from pandas) (2024.2)\n",
      "Collecting et-xmlfile (from openpyxl)\n",
      "  Obtaining dependency information for et-xmlfile from https://files.pythonhosted.org/packages/96/c2/3dd434b0108730014f1b96fd286040dc3bcb70066346f7e01ec2ac95865f/et_xmlfile-1.1.0-py3-none-any.whl.metadata\n",
      "  Downloading et_xmlfile-1.1.0-py3-none-any.whl.metadata (1.8 kB)\n",
      "Requirement already satisfied: six>=1.5 in c:\\users\\user\\pycharmprojects\\pythonproject1\\.venv\\lib\\site-packages (from python-dateutil>=2.8.2->pandas) (1.16.0)\n",
      "Downloading openpyxl-3.1.5-py2.py3-none-any.whl (250 kB)\n",
      "   ---------------------------------------- 0.0/250.9 kB ? eta -:--:--\n",
      "   - -------------------------------------- 10.2/250.9 kB ? eta -:--:--\n",
      "   --------- ------------------------------ 61.4/250.9 kB 1.1 MB/s eta 0:00:01\n",
      "   ---------------------------------------- 250.9/250.9 kB 2.6 MB/s eta 0:00:00\n",
      "Downloading et_xmlfile-1.1.0-py3-none-any.whl (4.7 kB)\n",
      "Installing collected packages: et-xmlfile, openpyxl\n",
      "Successfully installed et-xmlfile-1.1.0 openpyxl-3.1.5\n"
     ]
    },
    {
     "name": "stderr",
     "output_type": "stream",
     "text": [
      "\n",
      "[notice] A new release of pip is available: 23.2.1 -> 24.2\n",
      "[notice] To update, run: python.exe -m pip install --upgrade pip\n"
     ]
    }
   ],
   "source": [
    "!pip install pandas openpyxl\n"
   ]
  },
  {
   "cell_type": "code",
   "execution_count": 4,
   "id": "de9d79d6-e867-402e-924a-c3930de3403c",
   "metadata": {},
   "outputs": [
    {
     "name": "stdout",
     "output_type": "stream",
     "text": [
      "Requirement already satisfied: folium in c:\\users\\user\\pycharmprojects\\pythonproject1\\.venv\\lib\\site-packages (0.17.0)\n",
      "Requirement already satisfied: pandas in c:\\users\\user\\pycharmprojects\\pythonproject1\\.venv\\lib\\site-packages (2.2.3)\n",
      "Requirement already satisfied: openpyxl in c:\\users\\user\\pycharmprojects\\pythonproject1\\.venv\\lib\\site-packages (3.1.5)\n",
      "Requirement already satisfied: branca>=0.6.0 in c:\\users\\user\\pycharmprojects\\pythonproject1\\.venv\\lib\\site-packages (from folium) (0.8.0)\n",
      "Requirement already satisfied: jinja2>=2.9 in c:\\users\\user\\pycharmprojects\\pythonproject1\\.venv\\lib\\site-packages (from folium) (3.1.4)\n",
      "Requirement already satisfied: numpy in c:\\users\\user\\pycharmprojects\\pythonproject1\\.venv\\lib\\site-packages (from folium) (2.1.2)\n",
      "Requirement already satisfied: requests in c:\\users\\user\\pycharmprojects\\pythonproject1\\.venv\\lib\\site-packages (from folium) (2.32.3)\n",
      "Requirement already satisfied: xyzservices in c:\\users\\user\\pycharmprojects\\pythonproject1\\.venv\\lib\\site-packages (from folium) (2024.9.0)\n",
      "Requirement already satisfied: python-dateutil>=2.8.2 in c:\\users\\user\\pycharmprojects\\pythonproject1\\.venv\\lib\\site-packages (from pandas) (2.9.0.post0)\n",
      "Requirement already satisfied: pytz>=2020.1 in c:\\users\\user\\pycharmprojects\\pythonproject1\\.venv\\lib\\site-packages (from pandas) (2024.2)\n",
      "Requirement already satisfied: tzdata>=2022.7 in c:\\users\\user\\pycharmprojects\\pythonproject1\\.venv\\lib\\site-packages (from pandas) (2024.2)\n",
      "Requirement already satisfied: et-xmlfile in c:\\users\\user\\pycharmprojects\\pythonproject1\\.venv\\lib\\site-packages (from openpyxl) (1.1.0)\n",
      "Requirement already satisfied: MarkupSafe>=2.0 in c:\\users\\user\\pycharmprojects\\pythonproject1\\.venv\\lib\\site-packages (from jinja2>=2.9->folium) (3.0.1)\n",
      "Requirement already satisfied: six>=1.5 in c:\\users\\user\\pycharmprojects\\pythonproject1\\.venv\\lib\\site-packages (from python-dateutil>=2.8.2->pandas) (1.16.0)\n",
      "Requirement already satisfied: charset-normalizer<4,>=2 in c:\\users\\user\\pycharmprojects\\pythonproject1\\.venv\\lib\\site-packages (from requests->folium) (3.4.0)\n",
      "Requirement already satisfied: idna<4,>=2.5 in c:\\users\\user\\pycharmprojects\\pythonproject1\\.venv\\lib\\site-packages (from requests->folium) (3.10)\n",
      "Requirement already satisfied: urllib3<3,>=1.21.1 in c:\\users\\user\\pycharmprojects\\pythonproject1\\.venv\\lib\\site-packages (from requests->folium) (2.2.3)\n",
      "Requirement already satisfied: certifi>=2017.4.17 in c:\\users\\user\\pycharmprojects\\pythonproject1\\.venv\\lib\\site-packages (from requests->folium) (2024.8.30)\n"
     ]
    },
    {
     "name": "stderr",
     "output_type": "stream",
     "text": [
      "\n",
      "[notice] A new release of pip is available: 23.2.1 -> 24.2\n",
      "[notice] To update, run: python.exe -m pip install --upgrade pip\n"
     ]
    }
   ],
   "source": [
    "!pip install folium pandas openpyxl\n"
   ]
  },
  {
   "cell_type": "code",
   "execution_count": null,
   "id": "11f425d0-be27-4eda-a873-5fe9d1c4a63a",
   "metadata": {},
   "outputs": [],
   "source": [
    "import pandas as pd\n",
    "\n",
    "# Cargar el archivo Excel en un DataFrame\n",
    "df = pd.read_excel('mercado.xlsx')\n",
    "\n",
    "# Mostrar las primeras filas del DataFrame\n",
    "print(df.head())\n",
    "\n"
   ]
  },
  {
   "cell_type": "code",
   "execution_count": 3,
   "id": "d19c9681-ab2f-443a-8861-5ced996c92a1",
   "metadata": {},
   "outputs": [
    {
     "data": {
      "text/plain": [
       "Index(['Num', 'País', 'Compañía', 'Sector (NAICS)',\n",
       "       'Principales Actividades (NAICS)', 'Sector (CIIU Rev.4 A.C.)',\n",
       "       'Principales Actividades (CIIU Rev.4 A.C.)',\n",
       "       'Descripción de la compañía / productos', 'Dirección', 'Teléfono',\n",
       "       'Correo Electrónico', 'Página Web', 'Redes sociales',\n",
       "       'Principales Ejecutivos', 'Número de empleados',\n",
       "       'Ganancia operativa (EBIT)', 'Total Ingreso Operativo',\n",
       "       'Ganancia (Pérdida) Neta', 'Activos Totales',\n",
       "       'Propiedad, planta y equipo', 'Total de patrimonio',\n",
       "       'Flujo de caja libre', 'Precio de cierre',\n",
       "       'Ganancia o Pérdida del Periodo', 'Pasivos Totales', 'Ciudad',\n",
       "       'Año Fiscal', 'Auditado', 'Consolidado', 'Fuente'],\n",
       "      dtype='object')"
      ]
     },
     "execution_count": 3,
     "metadata": {},
     "output_type": "execute_result"
    }
   ],
   "source": [
    "df.columns\n"
   ]
  },
  {
   "cell_type": "code",
   "execution_count": null,
   "id": "8dd75d02-89c7-4b1a-96f1-9f7e0ec81d09",
   "metadata": {},
   "outputs": [],
   "source": [
    "import folium\n",
    "\n",
    "# Crear un mapa centrado en Colombia\n",
    "mapa = folium.Map(location=[4.5709, -74.2973], zoom_start=5)\n",
    "\n",
    "# Agregar algunos marcadores manualmente\n",
    "marcadores = [\n",
    "    {\n",
    "        \"nombre\": \"Compañía A\",\n",
    "        \"ubicacion\": [4.6105, -74.0817],  # Coordenadas de Bogotá\n",
    "        \"informacion\": \"Sector: Tecnología<br>Teléfono: 123456789\"\n",
    "    },\n",
    "    {\n",
    "        \"nombre\": \"Compañía B\",\n",
    "        \"ubicacion\": [10.4806, -75.5146],  # Coordenadas de Barranquilla\n",
    "        \"informacion\": \"Sector: Comercio<br>Teléfono: 987654321\"\n",
    "    },\n",
    "    {\n",
    "        \"nombre\": \"Compañía C\",\n",
    "        \"ubicacion\": [4.4403, -75.2114],  # Coordenadas de Manizales\n",
    "        \"informacion\": \"Sector: Educación<br>Teléfono: 1122334455\"\n",
    "    }\n",
    "]\n",
    "\n",
    "# Agregar marcadores al mapa\n",
    "for marcador in marcadores:\n",
    "    folium.Marker(\n",
    "        location=marcador[\"ubicacion\"],\n",
    "        popup=folium.Popup(f\"\"\"\n",
    "            <strong>{marcador['nombre']}</strong><br>\n",
    "            {marcador['informacion']}\n",
    "        \"\"\", max_width=300),\n",
    "        icon=folium.Icon(color='blue')\n",
    "    ).add_to(mapa)\n",
    "\n",
    "# Guardar el mapa en un archivo HTML\n",
    "mapa.save('mapa_simple.html')\n",
    "\n",
    "# Mostrar el mapa (esto funcionará en un entorno Jupyter Notebook)\n",
    "mapa\n"
   ]
  },
  {
   "cell_type": "code",
   "execution_count": null,
   "id": "0fd80f4f-e07e-4ca4-a311-154f2ddb6535",
   "metadata": {},
   "outputs": [],
   "source": []
  }
 ],
 "metadata": {
  "kernelspec": {
   "display_name": "Python 3 (ipykernel)",
   "language": "python",
   "name": "python3"
  },
  "language_info": {
   "codemirror_mode": {
    "name": "ipython",
    "version": 3
   },
   "file_extension": ".py",
   "mimetype": "text/x-python",
   "name": "python",
   "nbconvert_exporter": "python",
   "pygments_lexer": "ipython3",
   "version": "3.12.3"
  }
 },
 "nbformat": 4,
 "nbformat_minor": 5
}
